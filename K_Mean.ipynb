{
  "nbformat": 4,
  "nbformat_minor": 0,
  "metadata": {
    "colab": {
      "name": "K-Mean.ipynb",
      "provenance": []
    },
    "kernelspec": {
      "name": "python3",
      "display_name": "Python 3"
    },
    "accelerator": "GPU"
  },
  "cells": [
    {
      "cell_type": "markdown",
      "metadata": {
        "id": "88s2rvDCMb1R"
      },
      "source": [
        "# Clustering\r\n",
        "\r\n",
        "\r\n",
        "1.   most common exploratory data analysis technique\r\n",
        "2.   used to get an intuition about the structure of the data\r\n",
        "3.   identifying subgroups in the data\r\n",
        "4.   Identifying the data of same sub-group(cluster)\r\n",
        "\r\n"
      ]
    },
    {
      "cell_type": "markdown",
      "metadata": {
        "id": "P9oGn6QWNX-P"
      },
      "source": [
        "# Use of Cluster Analysis?\r\n",
        "1.   used to analysi basic features \r\n",
        "2.   used to find out the basic feature ofsubgroup.\r\n"
      ]
    },
    {
      "cell_type": "markdown",
      "metadata": {
        "id": "o599SlnwOOV0"
      },
      "source": [
        "# K-Means Algorithm\r\n",
        "1.  iterative algorithm\r\n",
        "2.  tries to partition the dataset into non-overlapping subgroups \r\n",
        "3.  where each data point belons to only one-group.\r\n"
      ]
    },
    {
      "cell_type": "markdown",
      "metadata": {
        "id": "oua4jGHpQJZj"
      },
      "source": [
        "# Applications\r\n",
        "1.  Get a meaningful intuition of the structure of the data \r\n",
        "2.  An example of that is clustering patients into different subgroups and build a model for each subgroup to predict the probability of the risk of having heart attack."
      ]
    },
    {
      "cell_type": "code",
      "metadata": {
        "id": "WeN78k0qIgYE"
      },
      "source": [
        ""
      ],
      "execution_count": null,
      "outputs": []
    }
  ]
}